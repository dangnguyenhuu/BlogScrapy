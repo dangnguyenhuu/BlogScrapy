{
 "cells": [
  {
   "cell_type": "code",
   "execution_count": 1,
   "metadata": {
    "collapsed": true
   },
   "outputs": [],
   "source": [
    "import scrapy\n",
    "from bs4 import BeautifulSoup\n",
    "from urllib import parse\n",
    "import requests\n"
   ]
  },
  {
   "cell_type": "code",
   "execution_count": 19,
   "metadata": {},
   "outputs": [],
   "source": [
    "target_url = 'http://momijiame.tumblr.com/page/53'\n",
    "r = requests.get(target_url)\n",
    "soup = BeautifulSoup(r.text, 'lxml')"
   ]
  },
  {
   "cell_type": "code",
   "execution_count": 20,
   "metadata": {},
   "outputs": [
    {
     "data": {
      "text/plain": [
       "<a href=\"/page/54\" title=\"Next Page\">Next Page</a>"
      ]
     },
     "execution_count": 20,
     "metadata": {},
     "output_type": "execute_result"
    }
   ],
   "source": [
    "next_page = soup.find('li', {'class': 'next'}) # 次のページへのリンクが入った <li> を取得する\n",
    "next_page_link = next_page.a # <li> の中に入った <a> を取り出す\n",
    "next_page_link"
   ]
  },
  {
   "cell_type": "code",
   "execution_count": 21,
   "metadata": {},
   "outputs": [
    {
     "name": "stdout",
     "output_type": "stream",
     "text": [
      "false\n"
     ]
    }
   ],
   "source": [
    "if 'href' not in next_page_link.attrs:\n",
    "    print(\"true\")\n",
    "else:\n",
    "    print(\"false\")"
   ]
  },
  {
   "cell_type": "code",
   "execution_count": 22,
   "metadata": {},
   "outputs": [
    {
     "name": "stdout",
     "output_type": "stream",
     "text": [
      "http://momijiame.tumblr.com/post/42996755649/rpm-に含まれるファイルや必要なパッケージを調べる\n['', 'post', '42996755649', 'rpm-に含まれるファイルや必要なパッケージを調べる']\n42996755649\nhttp://momijiame.tumblr.com/post/42354011767/gui-で使える-python-のデバッガ-winpdb-が便利な件\n['', 'post', '42354011767', 'gui-で使える-python-のデバッガ-winpdb-が便利な件']\n42354011767\nhttp://momijiame.tumblr.com/post/42352804234/centos-63-に-rpm-で-epel-をインストールする\n['', 'post', '42352804234', 'centos-63-に-rpm-で-epel-をインストールする']\n42352804234\nhttp://momijiame.tumblr.com/post/42168625947/python-のソースコードを自動で-pep8-に準拠させるツール-autopep8\n['', 'post', '42168625947', 'python-のソースコードを自動で-pep8-に準拠させるツール-autopep8']\n42168625947\nhttp://momijiame.tumblr.com/post/41541040934/centos-63-に-open-vswitch-173-をインストールする\n['', 'post', '41541040934', 'centos-63-に-open-vswitch-173-をインストールする']\n41541040934\nhttp://momijiame.tumblr.com/post/41512778756/mysql-を使ってトランザクション分離レベルの違いを試す\n['', 'post', '41512778756', 'mysql-を使ってトランザクション分離レベルの違いを試す']\n41512778756\nhttp://momijiame.tumblr.com/post/41508577266/mox-でテストに使うクラスにモンキーパッチを当てる\n['', 'post', '41508577266', 'mox-でテストに使うクラスにモンキーパッチを当てる']\n41508577266\nhttp://momijiame.tumblr.com/post/41503983502/python-の-logging-力を高める\n['', 'post', '41503983502', 'python-の-logging-力を高める']\n41503983502\nhttp://momijiame.tumblr.com/post/41496756288/python-のデコレータをインスタンスメソッドで作ってみる\n['', 'post', '41496756288', 'python-のデコレータをインスタンスメソッドで作ってみる']\n41496756288\nhttp://momijiame.tumblr.com/post/40905697895/vmware-fusion5-で-nat-を使ったときのネットワーク設定を変更する\n['', 'post', '40905697895', 'vmware-fusion5-で-nat-を使ったときのネットワーク設定を変更する']\n40905697895\n"
     ]
    }
   ],
   "source": [
    "posts = soup.find_all('div', {'class': 'title'})\n",
    "for post in posts:\n",
    "    post_url = post.a['href']\n",
    "    parse_result = parse.urlparse(post_url)  # URL から記事の ID を取得する\n",
    "    path_segments = parse_result.path.split('/')\n",
    "    print(post_url)\n",
    "    print(path_segments)\n",
    "    post_id = path_segments[2]\n",
    "    print(post_id)\n",
    "\n"
   ]
  },
  {
   "cell_type": "code",
   "execution_count": 23,
   "metadata": {},
   "outputs": [],
   "source": []
  },
  {
   "cell_type": "code",
   "execution_count": 23,
   "metadata": {},
   "outputs": [],
   "source": []
  },
  {
   "cell_type": "code",
   "execution_count": 23,
   "metadata": {},
   "outputs": [],
   "source": []
  },
  {
   "cell_type": "code",
   "execution_count": 40,
   "metadata": {},
   "outputs": [
    {
     "name": "stdout",
     "output_type": "stream",
     "text": [
      "Ẩm thực – Mua sắm – BiKae.net\n"
     ]
    }
   ],
   "source": [
    "target_url = 'https://bikae.net/category/am-thuc-mua-sam/'\n",
    "r = requests.get(target_url)\n",
    "soup = BeautifulSoup(r.text, 'lxml')\n",
    "# item1= response.url\n",
    "# print(item1)\n",
    "        # ページのどの部分をスクレイプするかを指定\n",
    "        # xPath形式での指定に加え、CSS形式での指定も可能\n",
    "item2 = soup.head.title.string\n",
    "print(item2)"
   ]
  },
  {
   "cell_type": "code",
   "execution_count": 46,
   "metadata": {},
   "outputs": [
    {
     "name": "stdout",
     "output_type": "stream",
     "text": [
      "\n\t\tMùa hè đã đến và hẳn là nhiều bạn đang có nhu cầu mua thiết bị làm mát trong nhà. Ngoài điều hoà là loại thiết bị làm mát quen thuộc nhất thì ở Nhật có rất nhiều loại thiết bị làm mát khác với công dụ...\n\n\t\tBạn đang ở Nhật vào mùa hè, tại sao lại không thử một vài món kem Nhật nhỉ? Ở Nhật, chỉ cần ra konbini (cửa hàng tiện lợi) là có thể dễ dàng tìm thấy vô số loại kem thơm ngon với đủ hương vị. Trong bà...\n\n\t\tCó thể nói Nhât là đất nước của konbini (cửa hàng tiên lợi) với hơn 50.000 cửa hàng trên khắp nước Nhật. Mình thấy chỉ trong vòng bán kính 1km nơi mình sống đã có tới 3 cái konbini. Bên cạnh việc bán...\n\n\t\tNhật Bản vốn được coi là một thiên đường mua sắm với vô vàn các loại cửa hàng, trung tâm mua sắm, phố mua sắm, trung tâm thương mại, outlet v.v. Trong số đó, có rất nhiều nơi bán đồ cao cấp với giá tr...\n\n\t\tGiày dép cũng là một trong những món đồ mà mình rất thích đi mua khi ở Nhật vì mẫu mã ở đây vô cùng phong phú và đa dạng. Tuy nhiên vì có quá nhiều lựa chọn nên cũng không dễ để tìm được 1 đôi giày ho...\n\n\t\tNhật Bản luôn được biết đến là một thiên đường mua sắm và quả thực là mình ở đây đã gần 8 năm rồi nhưng cứ ra đường là y như rằng phải tiêu tiền vì có quá nhiều thứ hay ho, nhìn rất là muốn mua :)). T...\n\n\t\tChào các bạn, ngày thường các bạn hay đi siêu thị nào? Một tháng các bạn mua đồ ăn hết bao nhiêu? Hôm nay mình sẽ gửi tới các bạn danh sách tổng hợp một số siêu thị giá rẻ ở Nhật. Các bạn thử tìm và t...\n\n\t\tPhew, cuối cùng thì kỳ nghỉ lễ ít ỏi trong năm đã tới rồi nhỉ, ngoài việc đi chơi, luyện phim thì đây cũng là dịp hiếm có để bạn bè hội ngộ bên nhau và cùng nấu nướng nhỉ? Những dịp như thế này, bọn m...\n\n\t\t\"Oyako\" bắt nguồn từ 2 chữ đó là 親 (Thân) và 子 (Tử). Món Oyako-don (親子丼) gồm có 2 nguyên liệu đó là thịt gà và trứng. Gà và trứng có mối quan hệ đó là cha mẹ (親 - Thân) - con cái (子 - Tử). Từ \"don\" tr...\n\n\t\tNếu dạo quanh các khu shopping, ăn chơi giải trí sầm uất ở Nhật, các bạn sẽ thấy người Nhật có thời trang tất rất đa dạng và độc đáo. Bạn có thể nhìn thấy đủ các phong cách tất từ dễ thương, trang nhã...\n\n\t\tNếu đi siêu thị ở Nhật, vào khu bán nguyên liệu làm bánh, bạn sẽ nhìn thấy một loại bột có tên gọi là ホットケーキミックス (hot cake mix) như trong ảnh minh hoạ ở trên. Đây là gói bột pha sẵn để làm được thành...\n\n\t\tSushi đã trở thành món ăn phổ biến trên toàn thế giới nên bạn không cần đến Nhật cũng vẫn thưởng thức được. Tuy nhiên, nếu đang ở Nhật thì chắc hẳn bạn cũng muốn nếm thử xem hương vị sushi bản địa nó...\n\n\t\tMua hàng online ở Nhật rất tiện lợi và khá an toàn. Có rất nhiều website uy tín giúp việc mua bán online ở Nhật dễ dàng, nhanh chóng và tiết kiệm. Trong bài này mình sẽ giới thiệu một số website mua h...\n\n\t\tNhiều bạn nói với mình là rất muốn làm bánh ở Nhật nhưng không biết các nguyên liệu làm bánh tiếng Nhật là gì, trông hình ảnh như thế nào và mua ở đâu. Mình thì không rành về bánh trái cho lắm, chỉ bi...\n\n\t\tChắc nhiều bạn đang ở Nhật hoặc đi du lịch Nhật cũng có chung câu hỏi này. Mình cũng không ngoại lệ vì lần nào chuẩn bị về Việt Nam là lại phải đau đầu suy nghĩ xem nên mua gì tốt, hữu ích mà lại hợp...\n\n\t\tMình thuộc loại có \"tâm hồn ăn uống\" nên cứ đi siêu thị hay đi chơi chỗ nào mà thấy món gì hay hay, trông hấp dẫn là phải thử luôn và ngay. Mình còn có 1 đứa em gái rất hảo ngọt và là fan cuồng của so...\n\n\t\tCác bạn có biết ngày 3/3 là ngày lễ hội búp bê ở Nhật có tên gọi là Hina-Matsuri (ひな祭り) không? Đây là một lễ hội truyền thống dành cho các bé gái, là ngày cầu phúc, sức khỏe và may mắn cho các bé gái...\n\n\t\tSữa trong siêu thị Nhật cũng phức tạp và nhiều loại y như quầy gia vị. Lúc học tiếng Nhật thì biết sữa là 牛乳 (ぎゅうにゅう) nhưng ra siêu thị thì thấy cả loạt sữa không phải chỉ có mỗi chữ 牛乳 , thế mới éo l...\n\n\t\tỞ Nhật, ngoài các loại mỹ phẩm ra thì quần áo giày dép và phụ kiện cũng vô cùng phong phú. Đấy là lý do vì sao mình có thể lang thang một mình cả ngày khắp các khu shopping mall hay shoutengai mà khôn...\n\n\t\tCơm cà ri,  tiếng Nhật gọi là カレーライス (karei raisu) hay đơn giản là  カレー (karei) là một món ăn hàng ngày rất được yêu thích tại Nhật. Khác với món cà ri của Ấn Độ, cà ri của Nhật thường ngọt, ít cay, đ...\n"
     ]
    }
   ],
   "source": [
    "import xml.etree.ElementTree\n",
    "def remove_tags(text):\n",
    "    return ''.join(xml.etree.ElementTree.fromstring(text).itertext())\n",
    "\n",
    "for a in soup.select('article.type-post'):\n",
    "        item2 = {}\n",
    "                # item['links'] = a.select(\"div.entry-header > h1 > a\")[0].get('href')\n",
    "                # item['title'] = a.select(\"div.entry-header > h1 > a\")[0].string\n",
    "                # item['thumbnail'] = a.select(\"div.entry-summary > div.toppage-post-feature-img > a > img\")[0].get('src')\n",
    "        item = a.select(\"div.entry-summary > div.toppage-post-excerpt > div\")[0]\n",
    "        print(remove_tags(str(a.select(\"div.entry-summary > div.toppage-post-excerpt > div\")[0])).replace(\"Xem chi tiết \", \"\"))\n",
    "        #print(item)\n"
   ]
  },
  {
   "cell_type": "code",
   "execution_count": 6,
   "metadata": {},
   "outputs": [
    {
     "data": {
      "text/plain": [
       "'https://bikae.net/category/am-thuc-mua-sam/page/2/'"
      ]
     },
     "execution_count": 6,
     "metadata": {},
     "output_type": "execute_result"
    }
   ],
   "source": [
    "#nav.paging-navigation > div.nav-links > div.nav-next > a\n",
    "\n",
    "next = soup.select(\"div.nav-links > div.nav-next > a\")[0].get('href')\n",
    "next"
   ]
  },
  {
   "cell_type": "code",
   "execution_count": null,
   "metadata": {},
   "outputs": [],
   "source": []
  }
 ],
 "metadata": {
  "kernelspec": {
   "display_name": "Python 2",
   "language": "python",
   "name": "python2"
  },
  "language_info": {
   "codemirror_mode": {
    "name": "ipython",
    "version": 2
   },
   "file_extension": ".py",
   "mimetype": "text/x-python",
   "name": "python",
   "nbconvert_exporter": "python",
   "pygments_lexer": "ipython2",
   "version": "2.7.6"
  }
 },
 "nbformat": 4,
 "nbformat_minor": 0
}
