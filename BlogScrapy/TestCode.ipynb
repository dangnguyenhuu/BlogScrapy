{
 "cells": [
  {
   "cell_type": "code",
   "execution_count": 1,
   "metadata": {
    "collapsed": true
   },
   "outputs": [],
   "source": [
    "import scrapy\n",
    "from bs4 import BeautifulSoup\n",
    "from urllib import parse\n",
    "import requests\n"
   ]
  },
  {
   "cell_type": "code",
   "execution_count": 19,
   "metadata": {
    "collapsed": true
   },
   "outputs": [],
   "source": [
    "target_url = 'http://momijiame.tumblr.com/page/53'\n",
    "r = requests.get(target_url)\n",
    "soup = BeautifulSoup(r.text, 'lxml')"
   ]
  },
  {
   "cell_type": "code",
   "execution_count": 20,
   "metadata": {
    "collapsed": false
   },
   "outputs": [
    {
     "data": {
      "text/plain": [
       "<a href=\"/page/54\" title=\"Next Page\">Next Page</a>"
      ]
     },
     "execution_count": 20,
     "metadata": {},
     "output_type": "execute_result"
    }
   ],
   "source": [
    "next_page = soup.find('li', {'class': 'next'}) # 次のページへのリンクが入った <li> を取得する\n",
    "next_page_link = next_page.a # <li> の中に入った <a> を取り出す\n",
    "next_page_link"
   ]
  },
  {
   "cell_type": "code",
   "execution_count": 21,
   "metadata": {
    "collapsed": false
   },
   "outputs": [
    {
     "name": "stdout",
     "output_type": "stream",
     "text": [
      "false\n"
     ]
    }
   ],
   "source": [
    "if 'href' not in next_page_link.attrs:\n",
    "    print(\"true\")\n",
    "else:\n",
    "    print(\"false\")"
   ]
  },
  {
   "cell_type": "code",
   "execution_count": 22,
   "metadata": {
    "collapsed": false
   },
   "outputs": [
    {
     "name": "stdout",
     "output_type": "stream",
     "text": [
      "http://momijiame.tumblr.com/post/42996755649/rpm-に含まれるファイルや必要なパッケージを調べる\n",
      "['', 'post', '42996755649', 'rpm-に含まれるファイルや必要なパッケージを調べる']\n",
      "42996755649\n",
      "http://momijiame.tumblr.com/post/42354011767/gui-で使える-python-のデバッガ-winpdb-が便利な件\n",
      "['', 'post', '42354011767', 'gui-で使える-python-のデバッガ-winpdb-が便利な件']\n",
      "42354011767\n",
      "http://momijiame.tumblr.com/post/42352804234/centos-63-に-rpm-で-epel-をインストールする\n",
      "['', 'post', '42352804234', 'centos-63-に-rpm-で-epel-をインストールする']\n",
      "42352804234\n",
      "http://momijiame.tumblr.com/post/42168625947/python-のソースコードを自動で-pep8-に準拠させるツール-autopep8\n",
      "['', 'post', '42168625947', 'python-のソースコードを自動で-pep8-に準拠させるツール-autopep8']\n",
      "42168625947\n",
      "http://momijiame.tumblr.com/post/41541040934/centos-63-に-open-vswitch-173-をインストールする\n",
      "['', 'post', '41541040934', 'centos-63-に-open-vswitch-173-をインストールする']\n",
      "41541040934\n",
      "http://momijiame.tumblr.com/post/41512778756/mysql-を使ってトランザクション分離レベルの違いを試す\n",
      "['', 'post', '41512778756', 'mysql-を使ってトランザクション分離レベルの違いを試す']\n",
      "41512778756\n",
      "http://momijiame.tumblr.com/post/41508577266/mox-でテストに使うクラスにモンキーパッチを当てる\n",
      "['', 'post', '41508577266', 'mox-でテストに使うクラスにモンキーパッチを当てる']\n",
      "41508577266\n",
      "http://momijiame.tumblr.com/post/41503983502/python-の-logging-力を高める\n",
      "['', 'post', '41503983502', 'python-の-logging-力を高める']\n",
      "41503983502\n",
      "http://momijiame.tumblr.com/post/41496756288/python-のデコレータをインスタンスメソッドで作ってみる\n",
      "['', 'post', '41496756288', 'python-のデコレータをインスタンスメソッドで作ってみる']\n",
      "41496756288\n",
      "http://momijiame.tumblr.com/post/40905697895/vmware-fusion5-で-nat-を使ったときのネットワーク設定を変更する\n",
      "['', 'post', '40905697895', 'vmware-fusion5-で-nat-を使ったときのネットワーク設定を変更する']\n",
      "40905697895\n"
     ]
    }
   ],
   "source": [
    "posts = soup.find_all('div', {'class': 'title'})\n",
    "for post in posts:\n",
    "    post_url = post.a['href']\n",
    "    parse_result = parse.urlparse(post_url)  # URL から記事の ID を取得する\n",
    "    path_segments = parse_result.path.split('/')\n",
    "    print(post_url)\n",
    "    print(path_segments)\n",
    "    post_id = path_segments[2]\n",
    "    print(post_id)\n",
    "\n"
   ]
  },
  {
   "cell_type": "code",
   "execution_count": 23,
   "metadata": {
    "collapsed": true
   },
   "outputs": [],
   "source": []
  },
  {
   "cell_type": "code",
   "execution_count": 23,
   "metadata": {
    "collapsed": true
   },
   "outputs": [],
   "source": []
  },
  {
   "cell_type": "code",
   "execution_count": 23,
   "metadata": {
    "collapsed": true
   },
   "outputs": [],
   "source": []
  },
  {
   "cell_type": "code",
   "execution_count": 2,
   "metadata": {
    "collapsed": false
   },
   "outputs": [
    {
     "name": "stdout",
     "output_type": "stream",
     "text": [
      "Ẩm thực – Mua sắm – BiKae.net\n"
     ]
    }
   ],
   "source": [
    "target_url = 'https://bikae.net/category/am-thuc-mua-sam/'\n",
    "r = requests.get(target_url)\n",
    "soup = BeautifulSoup(r.text, 'lxml')\n",
    "# item1= response.url\n",
    "# print(item1)\n",
    "        # ページのどの部分をスクレイプするかを指定\n",
    "        # xPath形式での指定に加え、CSS形式での指定も可能\n",
    "item2 = soup.head.title.string\n",
    "print(item2)"
   ]
  },
  {
   "cell_type": "code",
   "execution_count": 6,
   "metadata": {
    "collapsed": false,
    "scrolled": true
   },
   "outputs": [
    {
     "name": "stdout",
     "output_type": "stream",
     "text": [
      "https://bikae.net/\n",
      "False\n",
      "https://bikae.net/category/my-pham-lam-dep/\n",
      "True\n",
      "https://bikae.net/category/am-thuc-mua-sam/\n",
      "True\n",
      "https://bikae.net/category/di-lai-du-lich/\n",
      "True\n",
      "https://bikae.net/category/cham-soc-suc-khoe/\n",
      "True\n",
      "https://bikae.net/category/me-va-be/\n",
      "True\n",
      "https://bikae.net/category/doi-song/\n",
      "True\n",
      "https://bikae.net/trinh-do-n5/\n",
      "True\n",
      "https://bikae.net/trinh-do-n4/\n",
      "True\n",
      "https://bikae.net/trinh-do-n3/\n",
      "True\n",
      "https://bikae.net/trinh-do-n2/\n",
      "True\n",
      "https://bikae.net/trinh-do-n1/\n",
      "True\n",
      "https://bikae.net/gioi-thieu/\n",
      "True\n",
      "https://bikae.net/cong-tac-vien/\n",
      "True\n",
      "https://bikae.net/lien-he-gop-y/\n",
      "True\n"
     ]
    }
   ],
   "source": [
    "item2 = soup.select(\"li.swipe-menu-item > a.title\")\n",
    "for it in item2:\n",
    "    url = it.get(\"href\")\n",
    "    print(url)\n",
    "    parse_result = parse.urlparse(url).path.split('/')\n",
    "    print(len(parse_result) > 2)"
   ]
  },
  {
   "cell_type": "code",
   "execution_count": null,
   "metadata": {
    "collapsed": true
   },
   "outputs": [],
   "source": []
  },
  {
   "cell_type": "code",
   "execution_count": null,
   "metadata": {
    "collapsed": true
   },
   "outputs": [],
   "source": []
  },
  {
   "cell_type": "code",
   "execution_count": null,
   "metadata": {
    "collapsed": true
   },
   "outputs": [],
   "source": []
  },
  {
   "cell_type": "code",
   "execution_count": null,
   "metadata": {
    "collapsed": true
   },
   "outputs": [],
   "source": []
  },
  {
   "cell_type": "code",
   "execution_count": null,
   "metadata": {
    "collapsed": true
   },
   "outputs": [],
   "source": []
  },
  {
   "cell_type": "code",
   "execution_count": null,
   "metadata": {
    "collapsed": true
   },
   "outputs": [],
   "source": []
  },
  {
   "cell_type": "code",
   "execution_count": null,
   "metadata": {
    "collapsed": true
   },
   "outputs": [],
   "source": []
  },
  {
   "cell_type": "code",
   "execution_count": null,
   "metadata": {
    "collapsed": true
   },
   "outputs": [],
   "source": []
  },
  {
   "cell_type": "code",
   "execution_count": null,
   "metadata": {
    "collapsed": true
   },
   "outputs": [],
   "source": []
  },
  {
   "cell_type": "code",
   "execution_count": null,
   "metadata": {
    "collapsed": true
   },
   "outputs": [],
   "source": []
  },
  {
   "cell_type": "code",
   "execution_count": null,
   "metadata": {
    "collapsed": true
   },
   "outputs": [],
   "source": []
  }
 ],
 "metadata": {
  "anaconda-cloud": {},
  "kernelspec": {
   "display_name": "Python [Root]",
   "language": "python",
   "name": "Python [Root]"
  },
  "language_info": {
   "codemirror_mode": {
    "name": "ipython",
    "version": 3
   },
   "file_extension": ".py",
   "mimetype": "text/x-python",
   "name": "python",
   "nbconvert_exporter": "python",
   "pygments_lexer": "ipython3",
   "version": "3.5.1"
  }
 },
 "nbformat": 4,
 "nbformat_minor": 0
}
