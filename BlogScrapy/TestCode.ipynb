{
 "cells": [
  {
   "cell_type": "code",
   "execution_count": 1,
   "metadata": {
    "collapsed": true
   },
   "outputs": [],
   "source": [
    "import scrapy\n",
    "from bs4 import BeautifulSoup\n",
    "from urllib import parse\n",
    "import requests\n"
   ]
  },
  {
   "cell_type": "code",
   "execution_count": 19,
   "metadata": {},
   "outputs": [],
   "source": [
    "target_url = 'http://momijiame.tumblr.com/page/53'\n",
    "r = requests.get(target_url)\n",
    "soup = BeautifulSoup(r.text, 'lxml')"
   ]
  },
  {
   "cell_type": "code",
   "execution_count": 20,
   "metadata": {},
   "outputs": [
    {
     "data": {
      "text/plain": [
       "<a href=\"/page/54\" title=\"Next Page\">Next Page</a>"
      ]
     },
     "execution_count": 20,
     "metadata": {},
     "output_type": "execute_result"
    }
   ],
   "source": [
    "next_page = soup.find('li', {'class': 'next'}) # 次のページへのリンクが入った <li> を取得する\n",
    "next_page_link = next_page.a # <li> の中に入った <a> を取り出す\n",
    "next_page_link"
   ]
  },
  {
   "cell_type": "code",
   "execution_count": 21,
   "metadata": {},
   "outputs": [
    {
     "name": "stdout",
     "output_type": "stream",
     "text": [
      "false\n"
     ]
    }
   ],
   "source": [
    "if 'href' not in next_page_link.attrs:\n",
    "    print(\"true\")\n",
    "else:\n",
    "    print(\"false\")"
   ]
  },
  {
   "cell_type": "code",
   "execution_count": 22,
   "metadata": {},
   "outputs": [
    {
     "name": "stdout",
     "output_type": "stream",
     "text": [
      "http://momijiame.tumblr.com/post/42996755649/rpm-に含まれるファイルや必要なパッケージを調べる\n['', 'post', '42996755649', 'rpm-に含まれるファイルや必要なパッケージを調べる']\n42996755649\nhttp://momijiame.tumblr.com/post/42354011767/gui-で使える-python-のデバッガ-winpdb-が便利な件\n['', 'post', '42354011767', 'gui-で使える-python-のデバッガ-winpdb-が便利な件']\n42354011767\nhttp://momijiame.tumblr.com/post/42352804234/centos-63-に-rpm-で-epel-をインストールする\n['', 'post', '42352804234', 'centos-63-に-rpm-で-epel-をインストールする']\n42352804234\nhttp://momijiame.tumblr.com/post/42168625947/python-のソースコードを自動で-pep8-に準拠させるツール-autopep8\n['', 'post', '42168625947', 'python-のソースコードを自動で-pep8-に準拠させるツール-autopep8']\n42168625947\nhttp://momijiame.tumblr.com/post/41541040934/centos-63-に-open-vswitch-173-をインストールする\n['', 'post', '41541040934', 'centos-63-に-open-vswitch-173-をインストールする']\n41541040934\nhttp://momijiame.tumblr.com/post/41512778756/mysql-を使ってトランザクション分離レベルの違いを試す\n['', 'post', '41512778756', 'mysql-を使ってトランザクション分離レベルの違いを試す']\n41512778756\nhttp://momijiame.tumblr.com/post/41508577266/mox-でテストに使うクラスにモンキーパッチを当てる\n['', 'post', '41508577266', 'mox-でテストに使うクラスにモンキーパッチを当てる']\n41508577266\nhttp://momijiame.tumblr.com/post/41503983502/python-の-logging-力を高める\n['', 'post', '41503983502', 'python-の-logging-力を高める']\n41503983502\nhttp://momijiame.tumblr.com/post/41496756288/python-のデコレータをインスタンスメソッドで作ってみる\n['', 'post', '41496756288', 'python-のデコレータをインスタンスメソッドで作ってみる']\n41496756288\nhttp://momijiame.tumblr.com/post/40905697895/vmware-fusion5-で-nat-を使ったときのネットワーク設定を変更する\n['', 'post', '40905697895', 'vmware-fusion5-で-nat-を使ったときのネットワーク設定を変更する']\n40905697895\n"
     ]
    }
   ],
   "source": [
    "posts = soup.find_all('div', {'class': 'title'})\n",
    "for post in posts:\n",
    "    post_url = post.a['href']\n",
    "    parse_result = parse.urlparse(post_url)  # URL から記事の ID を取得する\n",
    "    path_segments = parse_result.path.split('/')\n",
    "    print(post_url)\n",
    "    print(path_segments)\n",
    "    post_id = path_segments[2]\n",
    "    print(post_id)\n",
    "\n"
   ]
  },
  {
   "cell_type": "code",
   "execution_count": 23,
   "metadata": {},
   "outputs": [],
   "source": []
  },
  {
   "cell_type": "code",
   "execution_count": 23,
   "metadata": {},
   "outputs": [],
   "source": []
  },
  {
   "cell_type": "code",
   "execution_count": 23,
   "metadata": {},
   "outputs": [],
   "source": []
  },
  {
   "cell_type": "code",
   "execution_count": 2,
   "metadata": {},
   "outputs": [
    {
     "name": "stdout",
     "output_type": "stream",
     "text": [
      "Ẩm thực – Mua sắm – BiKae.net\n"
     ]
    }
   ],
   "source": [
    "target_url = 'https://bikae.net/category/am-thuc-mua-sam/'\n",
    "r = requests.get(target_url)\n",
    "soup = BeautifulSoup(r.text, 'lxml')\n",
    "# item1= response.url\n",
    "# print(item1)\n",
    "        # ページのどの部分をスクレイプするかを指定\n",
    "        # xPath形式での指定に加え、CSS形式での指定も可能\n",
    "item2 = soup.head.title.string\n",
    "print(item2)"
   ]
  },
  {
   "cell_type": "code",
   "execution_count": 3,
   "metadata": {},
   "outputs": [
    {
     "name": "stdout",
     "output_type": "stream",
     "text": [
      "{'links': 'https://bikae.net/am-thuc-mua-sam/cac-thiet-bi-lam-mat-duoc-ua-chuong-tai-nhat/', 'title': 'Các thiết bị làm mát được ưa chuộng tại Nhật', 'thumbnail': 'https://cdn.bikae.net/wp-content/uploads/2018/06/q4631-21-300x200.jpg'}\n{'links': 'https://bikae.net/am-thuc-mua-sam/10-loai-kem-nhat-ngon-noi-tieng-o-cac-konbini/', 'title': '10 loại kem Nhật ngon nổi tiếng ở các konbini', 'thumbnail': 'https://bikae.net/wp-content/uploads/2018/05/dispImage.php-2-300x225.jpeg'}\n{'links': 'https://bikae.net/am-thuc-mua-sam/tong-hop-cac-dich-vu-tien-ich-o-konbini-cua-nhat/', 'title': 'Tổng hợp các dịch vụ tiện ích ở konbini của Nhật', 'thumbnail': 'https://cdn.bikae.net/wp-content/uploads/2018/03/FamilyMart_Daytime-2-300x225.jpg'}\n{'links': 'https://bikae.net/am-thuc-mua-sam/tong-hop-cac-cho-mua-sam-tien-loi-va-gia-tot-o-nhat/', 'title': 'Tổng hợp các chỗ mua sắm tiện lợi và giá tốt ở Nhật', 'thumbnail': 'https://cdn.bikae.net/wp-content/uploads/2018/02/FullSizeRender-9-e1519659294442-300x198.jpg'}\n{'links': 'https://bikae.net/am-thuc-mua-sam/tong-hop-mot-so-hang-giay-dep-nhat/', 'title': 'Tổng hợp một số hãng giày dép Nhật', 'thumbnail': 'https://cdn.bikae.net/wp-content/uploads/2017/08/スクリーンショット-2017-08-28-0.42.13-300x185.png'}\n{'links': 'https://bikae.net/am-thuc-mua-sam/cac-thoi-diem-giam-gia-trong-nam-o-nhat/', 'title': 'Các thời điểm giảm giá trong năm ở Nhật', 'thumbnail': 'https://cdn.bikae.net/wp-content/uploads/2017/08/onsale2016-1-300x223.jpg'}\n{'links': 'https://bikae.net/am-thuc-mua-sam/tong-hop-mot-sieu-thi-gia-re-tai-nhat/', 'title': 'Tổng hợp một số siêu thị giá rẻ ở Nhật', 'thumbnail': 'https://cdn.bikae.net/wp-content/uploads/2017/01/120714-1734_02l-300x225.jpg'}\n{'links': 'https://bikae.net/am-thuc-mua-sam/lam-pate-voi-nguyen-lieu-o-sieu-thi-nhat/', 'title': 'Làm pate với nguyên liệu ở siêu thị Nhật', 'thumbnail': 'https://cdn.bikae.net/wp-content/uploads/2016/12/banh-my-pate-e1483115077850-300x206.jpg'}\n{'links': 'https://bikae.net/am-thuc-mua-sam/cach-lam-mon-oyako-don/', 'title': 'Cách làm món Oyako-don', 'thumbnail': 'https://cdn.bikae.net/wp-content/uploads/2016/12/maxresdefault-300x169.jpg'}\n{'links': 'https://bikae.net/am-thuc-mua-sam/5-hang-tat-nhat-duoc-nhieu-nguoi-ua-chuong/', 'title': '5 hãng tất Nhật được nhiều người ưa chuộng', 'thumbnail': 'https://cdn.bikae.net/wp-content/uploads/2016/11/tutuanna-300x222.jpg'}\n{'links': 'https://bikae.net/am-thuc-mua-sam/hot-cake-mix-nguyen-lieu-lam-banh-bat-bai/', 'title': 'Hot cake mix (ホットケーキミックス) – nguyên liệu làm bánh bất bại', 'thumbnail': 'https://cdn.bikae.net/wp-content/uploads/2016/10/img_01-300x238.png'}\n{'links': 'https://bikae.net/am-thuc-mua-sam/di-an-sushi-ngon-bo-re-o-nhat/', 'title': 'Đi ăn sushi ngon, bổ, rẻ ở Nhật', 'thumbnail': 'https://cdn.bikae.net/wp-content/uploads/2016/09/img_85121-300x225.jpg'}\n{'links': 'https://bikae.net/am-thuc-mua-sam/nhung-dieu-can-biet-khi-mua-hang-online-o-nhat/', 'title': 'Những điều cần biết khi mua hàng online ở Nhật', 'thumbnail': 'https://cdn.bikae.net/wp-content/uploads/2016/05/kankou_shopping_asia-300x233.png'}\n{'links': 'https://bikae.net/am-thuc-mua-sam/chon-nguyen-lieu-va-dung-cu-lam-banh-o-nhat/', 'title': 'Chọn nguyên liệu và dụng cụ làm bánh ở Nhật', 'thumbnail': 'https://cdn.bikae.net/wp-content/uploads/2016/05/anhtieubieu-300x197.jpg'}\n{'links': 'https://bikae.net/am-thuc-mua-sam/di-nhat-nen-mua-gi-ve-lam-qua/', 'title': 'Đi Nhật nên mua gì về làm quà?', 'thumbnail': 'https://cdn.bikae.net/wp-content/uploads/2016/03/Hellokitty-300x205.jpg'}\n{'links': 'https://bikae.net/am-thuc-mua-sam/top-12-loai-banh-keo-nhat-nen-thu-mot-lan/', 'title': 'Top 12 loại bánh kẹo Nhật nên thử một lần', 'thumbnail': 'https://cdn.bikae.net/wp-content/uploads/2016/03/Tezukuri-Dobutsuen-Suizokukan-300x169.jpg'}\n{'links': 'https://bikae.net/am-thuc-mua-sam/lam-mon-chirashizushi-cho-le-hoi-hina-matsuri/', 'title': 'Làm món Chirashizushi cho lễ hội Hina-matsuri', 'thumbnail': 'https://cdn.bikae.net/wp-content/uploads/2016/02/Chirashizuku-Hinamatsuri-300x218.jpg'}\n{'links': 'https://bikae.net/am-thuc-mua-sam/phan-biet-cac-loai-sua-trong-sieu-thi-nhat/', 'title': 'Phân biệt các loại sữa trong siêu thị Nhật', 'thumbnail': 'https://cdn.bikae.net/wp-content/uploads/2016/02/IMG_52511-300x225.jpg'}\n{'links': 'https://bikae.net/am-thuc-mua-sam/mot-so-hang-thoi-trang-nhat-cuc-chat-voi-gia-hop-li/', 'title': 'Một số hãng thời trang Nhật cực chất với giá hợp lí', 'thumbnail': 'https://cdn.bikae.net/wp-content/uploads/2016/02/anhtieubieu-300x203.jpg'}\n{'links': 'https://bikae.net/am-thuc-mua-sam/cach-nau-com-ca-ri-kieu-nhat/', 'title': 'Cách nấu cơm cà ri kiểu Nhật', 'thumbnail': 'https://cdn.bikae.net/wp-content/uploads/2016/02/curry-rice-300x200.jpg'}\n"
     ]
    }
   ],
   "source": [
    "        for a in soup.find_all('article'):\n",
    "            try:\n",
    "                item = {}\n",
    "                item['links'] = a.select(\"div.entry-header > h1 > a\")[0].get('href')\n",
    "                item['title'] = a.select(\"div.entry-header > h1 > a\")[0].string\n",
    "                item['thumbnail'] = a.select(\"div.entry-summary > div.toppage-post-feature-img > a > img\")[0].get('src')\n",
    "                print(item)\n",
    "            except:\n",
    "                print(\"####\")"
   ]
  },
  {
   "cell_type": "code",
   "execution_count": null,
   "metadata": {},
   "outputs": [],
   "source": []
  }
 ],
 "metadata": {
  "kernelspec": {
   "display_name": "Python 2",
   "language": "python",
   "name": "python2"
  },
  "language_info": {
   "codemirror_mode": {
    "name": "ipython",
    "version": 2
   },
   "file_extension": ".py",
   "mimetype": "text/x-python",
   "name": "python",
   "nbconvert_exporter": "python",
   "pygments_lexer": "ipython2",
   "version": "2.7.6"
  }
 },
 "nbformat": 4,
 "nbformat_minor": 0
}
